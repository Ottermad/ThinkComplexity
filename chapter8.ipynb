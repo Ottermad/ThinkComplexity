{
 "cells": [
  {
   "cell_type": "code",
   "execution_count": 8,
   "metadata": {},
   "outputs": [],
   "source": [
    "import numpy as np\n",
    "import itertools\n",
    "from scipy.signal import correlate2d\n",
    "\n",
    "class SandPile:\n",
    "    kernel = np.array([[0, 1, 0], [1, -4, 1], [0, 1, 0]])\n",
    "    \n",
    "    def __init__(self, n, m=None, level=9):\n",
    "        m = n if m is None else m\n",
    "        self.array = np.ones((n, m)) * level\n",
    "        \n",
    "    def step(self, K=3):\n",
    "        toppling = self.array > K\n",
    "        num_toppled = np.sum(toppling)\n",
    "        c = correlate2d(toppling, self.kernel, mode='same')\n",
    "        self.array += c\n",
    "        return num_toppled\n",
    "    \n",
    "    def run(self):\n",
    "        total = 0\n",
    "        for i in itertools.count(1):\n",
    "            num_toppled = self.step()\n",
    "            total += num_toppled\n",
    "            if num_toppled == 0:\n",
    "                return i, total\n",
    "    \n",
    "    def drop(self):\n",
    "        a = self.array\n",
    "        n, m = a.shape\n",
    "        index = np.random.randint(n), np.random.randint(m)\n",
    "        a[index] += 1\n",
    "        \n",
    "    def drop_and_run(self):\n",
    "        self.drop()\n",
    "        duration, total_toppled = self.run()\n",
    "        return duration, total_toppled\n",
    "        "
   ]
  },
  {
   "cell_type": "code",
   "execution_count": 9,
   "metadata": {},
   "outputs": [
    {
     "data": {
      "text/plain": [
       "(332, 53336)"
      ]
     },
     "execution_count": 9,
     "metadata": {},
     "output_type": "execute_result"
    }
   ],
   "source": [
    "pile = SandPile(n=20, level=10)\n",
    "pile.run()"
   ]
  },
  {
   "cell_type": "code",
   "execution_count": 10,
   "metadata": {},
   "outputs": [
    {
     "data": {
      "text/plain": [
       "(5611, 6608352)"
      ]
     },
     "execution_count": 10,
     "metadata": {},
     "output_type": "execute_result"
    }
   ],
   "source": [
    "pile2 = SandPile(n=50, level=30)\n",
    "pile2.run()"
   ]
  },
  {
   "cell_type": "code",
   "execution_count": 11,
   "metadata": {},
   "outputs": [],
   "source": [
    "iters = 100000\n",
    "res = [pile2.drop_and_run() for _ in range(iters)]"
   ]
  },
  {
   "cell_type": "code",
   "execution_count": 12,
   "metadata": {},
   "outputs": [],
   "source": [
    "T,S = np.transpose(res)\n"
   ]
  },
  {
   "cell_type": "code",
   "execution_count": null,
   "metadata": {},
   "outputs": [],
   "source": []
  }
 ],
 "metadata": {
  "kernelspec": {
   "display_name": "Python 3",
   "language": "python",
   "name": "python3"
  },
  "language_info": {
   "codemirror_mode": {
    "name": "ipython",
    "version": 3
   },
   "file_extension": ".py",
   "mimetype": "text/x-python",
   "name": "python",
   "nbconvert_exporter": "python",
   "pygments_lexer": "ipython3",
   "version": "3.6.5"
  }
 },
 "nbformat": 4,
 "nbformat_minor": 2
}
